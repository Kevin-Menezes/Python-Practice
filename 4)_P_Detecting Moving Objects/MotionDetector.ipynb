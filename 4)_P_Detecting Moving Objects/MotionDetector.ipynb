{
 "cells": [
  {
   "cell_type": "code",
   "execution_count": null,
   "metadata": {},
   "outputs": [],
   "source": [
    "import cv2\n",
    "import pandas\n",
    "from datetime import datetime"
   ]
  },
  {
   "cell_type": "code",
   "execution_count": null,
   "metadata": {},
   "outputs": [],
   "source": [
    "first_frame = None\n",
    "status_list=[None,None]\n",
    "times=[]\n",
    "df = pandas.DataFrame(columns=[\"Start\",\"End\"]) # Creating a df to store timestamps\n",
    "\n",
    "video = cv2.VideoCapture(0)  # This activates your camera\n",
    "\n",
    "while True:\n",
    "    check,frame = video.read()\n",
    "    status = 0\n",
    "\n",
    "    gray = cv2.cvtColor(frame, cv2.COLOR_BGR2GRAY) # Convert every frame to grayscale\n",
    "    #gray = cv2.GaussianBlur(gray,(21,21),0) # Gaussian Blur\n",
    "\n",
    "    if first_frame is None:\n",
    "        first_frame=gray # storing the first frame\n",
    "        continue\n",
    "\n",
    "    # ------------------------------------------------------------------------\n",
    "\n",
    "    # Creating other frames\n",
    "    delta_frame = cv2.absdiff(first_frame, gray)  # Generating difference between first frame and rest of frames\n",
    "\n",
    "    thresh_frame = cv2.threshold(delta_frame,30,255,cv2.THRESH_BINARY)[1] # Creating the black and white frame\n",
    "    thresh_frame = cv2.dilate(thresh_frame,None,iterations=2)\n",
    "\n",
    "    (cnts,_) = cv2.findContours(thresh_frame.copy(),cv2.RETR_EXTERNAL,cv2.CHAIN_APPROX_SIMPLE) # This is to detect any objects\n",
    "\n",
    "    # ------------------------------------------------------------------------\n",
    "\n",
    "    # For drawing rectangles on different objects\n",
    "    for contour in cnts:\n",
    "        if cv2.contourArea(contour)<10000: # If an object area is less than 10,000 pixels...then ignore it...otherwise draw rectangle around it\n",
    "            continue\n",
    "\n",
    "        status = 1\n",
    "\n",
    "        x,y,w,h=cv2.boundingRect(contour)\n",
    "        cv2.rectangle(frame,(x,y),(x+w,y+h),(0,255,0),3) # Draw rectangles\n",
    "\n",
    "    # To note the timestamp when an object is detected & when it is not\n",
    "    status_list.append(status)\n",
    "\n",
    "    status_list = status_list[-2:]\n",
    "\n",
    "    if status_list[-1]==1 and status_list[-2]==0:\n",
    "        times.append(datetime.now())\n",
    "\n",
    "    if status_list[-1] == 0 and status_list[-2] == 1:\n",
    "        times.append(datetime.now())\n",
    "\n",
    "    # ------------------------------------------------------------------------\n",
    "\n",
    "    cv2.imshow(\"GrayFrame\", gray)  # Displays grey image\n",
    "    cv2.imshow(\"DeltaFrame\", delta_frame)  # Displays delta image\n",
    "    cv2.imshow(\"ThresholdFrame\", thresh_frame)  # Displays threshold image\n",
    "\n",
    "    key = cv2.waitKey(1)  # 1000 is 1 sec\n",
    "\n",
    "    if key == ord('q'):  # If we press 'q' it will stop\n",
    "        if status==1:\n",
    "            times.append(datetime.now())\n",
    "        break\n",
    "\n",
    "print(status_list)\n",
    "print(times)\n",
    "\n",
    "# Creating the df\n",
    "for i in range(0,len(times),2):\n",
    "    df = df.append({\"Start\":times[i],\"End\":times[i+1]},ignore_index=True)\n",
    "\n",
    "df.to_csv(\"Timestamp.csv\")\n",
    "\n",
    "video.release()\n",
    "cv2.destroyAllWindows\n"
   ]
  },
  {
   "cell_type": "code",
   "execution_count": null,
   "metadata": {},
   "outputs": [],
   "source": [
    "\n"
   ]
  }
 ],
 "metadata": {
  "kernelspec": {
   "display_name": "Python 3.10.4 64-bit",
   "language": "python",
   "name": "python3"
  },
  "language_info": {
   "codemirror_mode": {
    "name": "ipython",
    "version": 3
   },
   "file_extension": ".py",
   "mimetype": "text/x-python",
   "name": "python",
   "nbconvert_exporter": "python",
   "pygments_lexer": "ipython3",
   "version": "3.10.4"
  },
  "orig_nbformat": 4,
  "vscode": {
   "interpreter": {
    "hash": "856740a4b3f9d14a2494da7ec5190ef9aed25bfa7857d46e4a816c1559f709fc"
   }
  }
 },
 "nbformat": 4,
 "nbformat_minor": 2
}
