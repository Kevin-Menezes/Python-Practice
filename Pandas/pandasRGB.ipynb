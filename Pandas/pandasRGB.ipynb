{
 "cells": [
  {
   "cell_type": "code",
   "execution_count": 7,
   "id": "960fe8a0",
   "metadata": {},
   "outputs": [],
   "source": [
    "import pandas"
   ]
  },
  {
   "cell_type": "code",
   "execution_count": 10,
   "id": "60fd3288",
   "metadata": {},
   "outputs": [],
   "source": [
    "import cv2"
   ]
  },
  {
   "cell_type": "code",
   "execution_count": 22,
   "id": "f2316099",
   "metadata": {},
   "outputs": [],
   "source": [
    "img = cv2.imread(\"images/smallgray.png\",1) # imread detects colors and converts into RGB values... 0 means greyscale...1 means BGR"
   ]
  },
  {
   "cell_type": "code",
   "execution_count": 23,
   "id": "7c8f3980",
   "metadata": {},
   "outputs": [
    {
     "data": {
      "text/plain": [
       "array([[[187, 187, 187],\n",
       "        [158, 158, 158],\n",
       "        [104, 104, 104],\n",
       "        [121, 121, 121],\n",
       "        [143, 143, 143]],\n",
       "\n",
       "       [[198, 198, 198],\n",
       "        [125, 125, 125],\n",
       "        [255, 255, 255],\n",
       "        [255, 255, 255],\n",
       "        [147, 147, 147]],\n",
       "\n",
       "       [[209, 209, 209],\n",
       "        [134, 134, 134],\n",
       "        [255, 255, 255],\n",
       "        [ 97,  97,  97],\n",
       "        [182, 182, 182]]], dtype=uint8)"
      ]
     },
     "execution_count": 23,
     "metadata": {},
     "output_type": "execute_result"
    }
   ],
   "source": [
    "img # The top matrix is full Blue ...middle is Green...Bottom is Red"
   ]
  },
  {
   "cell_type": "code",
   "execution_count": null,
   "id": "09352b68",
   "metadata": {},
   "outputs": [],
   "source": [
    "cv2.imwrite(\"NewGrey.png\",img) # Creates another file with the same image"
   ]
  }
 ],
 "metadata": {
  "kernelspec": {
   "display_name": "Python 3.10.4 64-bit",
   "language": "python",
   "name": "python3"
  },
  "language_info": {
   "codemirror_mode": {
    "name": "ipython",
    "version": 3
   },
   "file_extension": ".py",
   "mimetype": "text/x-python",
   "name": "python",
   "nbconvert_exporter": "python",
   "pygments_lexer": "ipython3",
   "version": "3.10.4"
  },
  "vscode": {
   "interpreter": {
    "hash": "856740a4b3f9d14a2494da7ec5190ef9aed25bfa7857d46e4a816c1559f709fc"
   }
  }
 },
 "nbformat": 4,
 "nbformat_minor": 5
}
