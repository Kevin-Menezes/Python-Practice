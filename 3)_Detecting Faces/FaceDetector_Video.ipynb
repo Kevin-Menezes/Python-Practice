{
 "cells": [
  {
   "cell_type": "code",
   "execution_count": null,
   "metadata": {},
   "outputs": [],
   "source": [
    "import cv2\n",
    "\n",
    "face_cascade = cv2.CascadeClassifier(\"haarcascade_frontalface_default.xml\")"
   ]
  },
  {
   "cell_type": "code",
   "execution_count": null,
   "metadata": {},
   "outputs": [],
   "source": [
    "# Activates ur camera & shows frames of ur video\n",
    "video = cv2.VideoCapture(0)  # This activates your camera\n",
    "\n",
    "while True:\n",
    "    check,frame = video.read() # check = checks if ur camera is working | frame = Captures an image & gives RGB array\n",
    "    print(check)\n",
    "    print(frame)\n",
    "\n",
    "    # To detect the position of the face\n",
    "    faces = face_cascade.detectMultiScale(frame,\n",
    "    scaleFactor=1.05,\n",
    "    minNeighbors=5)\n",
    "\n",
    "    # Drawing rectangle on face\n",
    "    for x, y, w, h in faces:\n",
    "        img = cv2.rectangle(frame, (x, y), (x + w, y + h), (0, 255, 0), 3)\n",
    "\n",
    "    cv2.imshow(\"Capture\",frame) # Displays image\n",
    "\n",
    "    key=cv2.waitKey(1) # 1000 is 1 sec\n",
    "\n",
    "    if key==ord('q'): # If we press 'q' it will stop\n",
    "        break\n",
    "\n",
    "video.release()\n",
    "cv2.destroyAllWindows"
   ]
  },
  {
   "cell_type": "code",
   "execution_count": null,
   "metadata": {},
   "outputs": [],
   "source": []
  }
 ],
 "metadata": {
  "kernelspec": {
   "display_name": "Python 3.10.4 64-bit",
   "language": "python",
   "name": "python3"
  },
  "language_info": {
   "codemirror_mode": {
    "name": "ipython",
    "version": 3
   },
   "file_extension": ".py",
   "mimetype": "text/x-python",
   "name": "python",
   "nbconvert_exporter": "python",
   "pygments_lexer": "ipython3",
   "version": "3.10.4"
  },
  "orig_nbformat": 4,
  "vscode": {
   "interpreter": {
    "hash": "856740a4b3f9d14a2494da7ec5190ef9aed25bfa7857d46e4a816c1559f709fc"
   }
  }
 },
 "nbformat": 4,
 "nbformat_minor": 2
}
