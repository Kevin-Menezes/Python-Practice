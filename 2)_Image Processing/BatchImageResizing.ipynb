{
 "cells": [
  {
   "cell_type": "code",
   "execution_count": null,
   "metadata": {},
   "outputs": [],
   "source": [
    "import cv2\n",
    "import glob"
   ]
  },
  {
   "cell_type": "code",
   "execution_count": 6,
   "metadata": {},
   "outputs": [
    {
     "name": "stdout",
     "output_type": "stream",
     "text": [
      "['galaxy.jpg', 'kangaroos-rain-australia_71370_990x742.jpg', 'Lighthouse.jpg', 'Moon sinking, sun rising.jpg']\n"
     ]
    }
   ],
   "source": [
    "images = glob.glob(\"*.jpg\")  # return all file paths that match a specific pattern."
   ]
  },
  {
   "cell_type": "code",
   "execution_count": 9,
   "metadata": {},
   "outputs": [],
   "source": [
    "for image in images:\n",
    "    img = cv2.imread(image, 0)\n",
    "    resize_img = cv2.resize(img, (100, 100))\n",
    "    cv2.imshow(\"image\", resize_img)\n",
    "    cv2.waitKey(0)  # if 0 then waits for infinity\n",
    "    cv2.destroyAllWindows\n",
    "    # cv2.imwrite(\"resized_\"+image,resize_img) # Creates a copy of the resized image"
   ]
  }
 ],
 "metadata": {
  "kernelspec": {
   "display_name": "Python 3.10.4 64-bit",
   "language": "python",
   "name": "python3"
  },
  "language_info": {
   "codemirror_mode": {
    "name": "ipython",
    "version": 3
   },
   "file_extension": ".py",
   "mimetype": "text/x-python",
   "name": "python",
   "nbconvert_exporter": "python",
   "pygments_lexer": "ipython3",
   "version": "3.10.4"
  },
  "orig_nbformat": 4,
  "vscode": {
   "interpreter": {
    "hash": "856740a4b3f9d14a2494da7ec5190ef9aed25bfa7857d46e4a816c1559f709fc"
   }
  }
 },
 "nbformat": 4,
 "nbformat_minor": 2
}
